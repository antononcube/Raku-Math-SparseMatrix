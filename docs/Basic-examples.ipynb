{
 "cells": [
  {
   "cell_type": "markdown",
   "metadata": {},
   "source": [
    "-----\n",
    "\n",
    "## Setup"
   ]
  },
  {
   "cell_type": "code",
   "execution_count": 1,
   "metadata": {},
   "outputs": [],
   "source": [
    "use Math::SparseMatrix;\n",
    "use Math::SparseMatrix::CSR;\n",
    "use Math::SparseMatrix::Utilities;\n",
    "\n",
    "use Data::Importers;\n",
    "use Data::Summarizers;\n",
    "use Data::Reshapers;\n",
    "use Data::Generators;\n",
    "\n",
    "use LLM::Configurations;\n",
    "\n",
    "# In order to have \"single origin of truth\" in the comparison tables\n",
    "use MONKEY-SEE-NO-EVAL;"
   ]
  },
  {
   "cell_type": "markdown",
   "metadata": {},
   "source": [
    "------\n",
    "\n",
    "## Random sparse matrices"
   ]
  },
  {
   "cell_type": "markdown",
   "metadata": {},
   "source": [
    "Here we generate a random sparse matrix:"
   ]
  },
  {
   "cell_type": "code",
   "execution_count": 2,
   "metadata": {},
   "outputs": [
    {
     "data": {
      "text/plain": [
       "Math::SparseMatrix(:specified-elements(13), :dimensions((5, 8)), :density(0.325))"
      ]
     },
     "execution_count": 2,
     "metadata": {},
     "output_type": "execute_result"
    }
   ],
   "source": [
    "my $nrow = 5;\n",
    "my $ncol = 8;\n",
    "my $density = 0.35;\n",
    "my $tol = 0.001;\n",
    "my $type = 'CSR';\n",
    "\n",
    "my $matrix1 = generate-random-sparse-matrix($nrow, $ncol, :$density, :$tol);"
   ]
  },
  {
   "cell_type": "markdown",
   "metadata": {},
   "source": [
    "Here we display it (as text):"
   ]
  },
  {
   "cell_type": "code",
   "execution_count": 3,
   "metadata": {},
   "outputs": [
    {
     "name": "stdout",
     "output_type": "stream",
     "text": [
      "–––––––––––––––––––––––––––––––––––––––––––––––––––\n",
      "    0     1     2     3     4     5     6     7    \n",
      "––┼––––––––––––––––––––––––––––––––––––––––––––––––\n",
      "0 │ 0.059 .     .     0.747 .     .     .     .    \n",
      "1 │ .     0.892 0.346 .     .     .     .     0.086\n",
      "2 │ .     .     0.131 .     .     0.14  .     0.751\n",
      "3 │ .     .     0.923 .     .     .     .     0.844\n",
      "4 │ .     .     .     0.734 0.469 0.144 .     .    \n"
     ]
    }
   ],
   "source": [
    "sink $matrix1.print()"
   ]
  },
  {
   "cell_type": "markdown",
   "metadata": {},
   "source": [
    "Here is a \"pretty print\" in HTML:"
   ]
  },
  {
   "cell_type": "code",
   "execution_count": 4,
   "metadata": {},
   "outputs": [
    {
     "data": {
      "text/html": [
       "<table border=\"1\"><thead><tr><th></th><th>0</th><th>1</th><th>2</th><th>3</th><th>4</th><th>5</th><th>6</th><th>7</th></tr></thead><tr><th>0</th><td>0.059</td><td>.</td><td>.</td><td>0.747</td><td>.</td><td>.</td><td>.</td><td>.</td></tr><tr><th>1</th><td>.</td><td>0.892</td><td>0.346</td><td>.</td><td>.</td><td>.</td><td>.</td><td>0.086</td></tr><tr><th>2</th><td>.</td><td>.</td><td>0.131</td><td>.</td><td>.</td><td>0.14</td><td>.</td><td>0.751</td></tr><tr><th>3</th><td>.</td><td>.</td><td>0.923</td><td>.</td><td>.</td><td>.</td><td>.</td><td>0.844</td></tr><tr><th>4</th><td>.</td><td>.</td><td>.</td><td>0.734</td><td>0.469</td><td>0.144</td><td>.</td><td>.</td></tr></table>"
      ]
     },
     "execution_count": 4,
     "metadata": {},
     "output_type": "execute_result"
    }
   ],
   "source": [
    "#% html\n",
    "$matrix1.to-html"
   ]
  },
  {
   "cell_type": "markdown",
   "metadata": {},
   "source": [
    "----\n",
    "\n",
    "## Named rows and columns"
   ]
  },
  {
   "cell_type": "code",
   "execution_count": 5,
   "metadata": {},
   "outputs": [
    {
     "data": {
      "text/plain": [
       "Math::SparseMatrix(:specified-elements(13), :dimensions((5, 8)), :density(0.325))"
      ]
     },
     "execution_count": 5,
     "metadata": {},
     "output_type": "execute_result"
    }
   ],
   "source": [
    "my $matrix2 = Math::SparseMatrix.new(\n",
    "    $matrix1, \n",
    "    row-names => random-pet-name($matrix1.nrow), \n",
    "    column-names => random-word($matrix1.ncol), \n",
    "    );"
   ]
  },
  {
   "cell_type": "code",
   "execution_count": 6,
   "metadata": {},
   "outputs": [
    {
     "data": {
      "text/html": [
       "<table border=\"1\"><thead><tr><th></th><th>dispensation</th><th>Anoectochilus</th><th>instalment</th><th>disinterment</th><th>conditioned</th><th>passport</th><th>rearguard</th><th>grotesque</th></tr></thead><tr><th>Lucy</th><td>0.059</td><td>.</td><td>.</td><td>0.747</td><td>.</td><td>.</td><td>.</td><td>.</td></tr><tr><th>Chelsea</th><td>.</td><td>0.892</td><td>0.346</td><td>.</td><td>.</td><td>.</td><td>.</td><td>0.086</td></tr><tr><th>Anna Beans</th><td>.</td><td>.</td><td>0.131</td><td>.</td><td>.</td><td>0.14</td><td>.</td><td>0.751</td></tr><tr><th>Sevee</th><td>.</td><td>.</td><td>0.923</td><td>.</td><td>.</td><td>.</td><td>.</td><td>0.844</td></tr><tr><th>Dudley</th><td>.</td><td>.</td><td>.</td><td>0.734</td><td>0.469</td><td>0.144</td><td>.</td><td>.</td></tr></table>"
      ]
     },
     "execution_count": 6,
     "metadata": {},
     "output_type": "execute_result"
    }
   ],
   "source": [
    "#% html\n",
    "$matrix2.to-html"
   ]
  },
  {
   "cell_type": "markdown",
   "metadata": {},
   "source": [
    "Here is the result of a dot product with a dense vector: "
   ]
  },
  {
   "cell_type": "code",
   "execution_count": 7,
   "metadata": {},
   "outputs": [
    {
     "data": {
      "text/html": [
       "<table border=\"1\"><thead><tr><th></th><th>0</th></tr></thead><tr><th>Lucy</th><td>0.5392729643957306</td></tr><tr><th>Chelsea</th><td>0.7096229249865935</td></tr><tr><th>Anna Beans</th><td>0.8369448680051328</td></tr><tr><th>Sevee</th><td>0.9016831963423682</td></tr><tr><th>Dudley</th><td>0.8271169924773762</td></tr></table>"
      ]
     },
     "execution_count": 7,
     "metadata": {},
     "output_type": "execute_result"
    }
   ],
   "source": [
    "#% html\n",
    "my $matrix3 = $matrix2.dot(rand xx $matrix2.columns-count);\n",
    "$matrix3.to-html"
   ]
  },
  {
   "cell_type": "markdown",
   "metadata": {},
   "source": [
    "Here is the result of the dot product with its transpose:"
   ]
  },
  {
   "cell_type": "code",
   "execution_count": 8,
   "metadata": {},
   "outputs": [
    {
     "data": {
      "text/html": [
       "<table border=\"1\"><thead><tr><th></th><th>Lucy</th><th>Chelsea</th><th>Anna Beans</th><th>Sevee</th><th>Dudley</th></tr></thead><tr><th>Lucy</th><td>0.5614899999999999</td><td>.</td><td>.</td><td>.</td><td>0.548298</td></tr><tr><th>Chelsea</th><td>.</td><td>0.922776</td><td>0.10991199999999998</td><td>0.39194199999999996</td><td>.</td></tr><tr><th>Anna Beans</th><td>.</td><td>0.10991199999999998</td><td>0.600762</td><td>0.754757</td><td>0.02016</td></tr><tr><th>Sevee</th><td>.</td><td>0.39194199999999996</td><td>0.754757</td><td>1.564265</td><td>.</td></tr><tr><th>Dudley</th><td>0.548298</td><td>.</td><td>0.02016</td><td>.</td><td>0.779453</td></tr></table>"
      ]
     },
     "execution_count": 8,
     "metadata": {},
     "output_type": "execute_result"
    }
   ],
   "source": [
    "#% html\n",
    "$matrix2.dot($matrix2.transpose).to-html"
   ]
  },
  {
   "cell_type": "markdown",
   "metadata": {},
   "source": [
    "-----\n",
    "\n",
    "## Test matrices"
   ]
  },
  {
   "cell_type": "code",
   "execution_count": 9,
   "metadata": {},
   "outputs": [
    {
     "data": {
      "text/plain": [
       "Math::SparseMatrix(:specified-elements(5), :dimensions((4, 5)), :density(0.25))"
      ]
     },
     "execution_count": 9,
     "metadata": {},
     "output_type": "execute_result"
    }
   ],
   "source": [
    "my $rmatCore = Math::SparseMatrix::CSR.new(rules => [[0, 0] => 1, [1, 1] => 2, [3, 2] => 3, [0, 3] => 4, [2, 4] => 2]);\n",
    "\n",
    "my $rmat = Math::SparseMatrix.new(\n",
    "  $rmatCore,  \n",
    "  column-names => [\"a\", \"b\", \"c\", \"d\", \"e\"],\n",
    "  row-names => [\"A\", \"B\", \"C\", \"D\"],\n",
    "  dimension-names => [\"U\", \"V\"]);"
   ]
  },
  {
   "cell_type": "code",
   "execution_count": 10,
   "metadata": {},
   "outputs": [
    {
     "data": {
      "text/html": [
       "<table border=\"1\"><thead><tr><th></th><th>a</th><th>b</th><th>c</th><th>d</th><th>e</th></tr></thead><tr><th>A</th><td>1</td><td>.</td><td>.</td><td>4</td><td>.</td></tr><tr><th>B</th><td>.</td><td>2</td><td>.</td><td>.</td><td>.</td></tr><tr><th>C</th><td>.</td><td>.</td><td>.</td><td>.</td><td>2</td></tr><tr><th>D</th><td>.</td><td>.</td><td>3</td><td>.</td><td>.</td></tr></table>"
      ]
     },
     "execution_count": 10,
     "metadata": {},
     "output_type": "execute_result"
    }
   ],
   "source": [
    "#% html\n",
    "$rmat.to-html(:!iv)"
   ]
  },
  {
   "cell_type": "markdown",
   "metadata": {},
   "source": [
    "----\n",
    "\n",
    "## Dot product"
   ]
  },
  {
   "cell_type": "markdown",
   "metadata": {},
   "source": [
    "### Matrix by vector"
   ]
  },
  {
   "cell_type": "code",
   "execution_count": 11,
   "metadata": {},
   "outputs": [
    {
     "data": {
      "text/html": [
       "<table border=\"1\"><tr><td style=\"border: 3px solid black;\"><table border=\"1\"><thead><tr><th></th><th>a</th><th>b</th><th>c</th><th>d</th><th>e</th></tr></thead><tr><th>A</th><td>1</td><td>.</td><td>.</td><td>4</td><td>.</td></tr><tr><th>B</th><td>.</td><td>2</td><td>.</td><td>.</td><td>.</td></tr><tr><th>C</th><td>.</td><td>.</td><td>.</td><td>.</td><td>2</td></tr><tr><th>D</th><td>.</td><td>.</td><td>3</td><td>.</td><td>.</td></tr></table></td> <td style=\"border: 3px solid black;\"><table border=\"1\"><thead><tr><th></th><th>A</th></tr></thead><tr><th>a</th><td>1</td></tr><tr><th>b</th><td>.</td></tr><tr><th>c</th><td>.</td></tr><tr><th>d</th><td>4</td></tr><tr><th>e</th><td>.</td></tr></table></td> <td style=\"border: 3px solid black;\"><table border=\"1\"><thead><tr><th></th><th>A</th></tr></thead><tr><th>A</th><td>17</td></tr><tr><th>B</th><td>.</td></tr><tr><th>C</th><td>.</td></tr><tr><th>D</th><td>.</td></tr></table></td></tr></table>"
      ]
     },
     "execution_count": 11,
     "metadata": {},
     "output_type": "execute_result"
    }
   ],
   "source": [
    "#% html\n",
    "[ \n",
    "    $rmat.to-html(),\n",
    "    $rmat[0].transpose.to-html,\n",
    "    $rmat.dot($rmat[0].transpose).to-html\n",
    "] ==> to-html-table"
   ]
  },
  {
   "cell_type": "code",
   "execution_count": 12,
   "metadata": {},
   "outputs": [
    {
     "data": {
      "text/html": [
       "<table style=\"border-collapse: collapse; border: 3px solid black;\"><thead><tr><th style=\"border: 3px solid black; text-align: left;\">$rmat</th><th style=\"border: 3px solid black; text-align: left;\">$rmat[0].transpose</th><th style=\"border: 3px solid black; text-align: left;\">$rmat.dot($rmat[0].transpose)</th></tr></thead><tbody><tr><td style=\"border: 3px solid black; text-align: left;\"><table border=\"1\"><thead><tr><th></th><th>a</th><th>b</th><th>c</th><th>d</th><th>e</th></tr></thead><tr><th>A</th><td>1</td><td>.</td><td>.</td><td>4</td><td>.</td></tr><tr><th>B</th><td>.</td><td>2</td><td>.</td><td>.</td><td>.</td></tr><tr><th>C</th><td>.</td><td>.</td><td>.</td><td>.</td><td>2</td></tr><tr><th>D</th><td>.</td><td>.</td><td>3</td><td>.</td><td>.</td></tr></table></td><td style=\"border: 3px solid black; text-align: left;\"><table border=\"1\"><thead><tr><th></th><th>A</th></tr></thead><tr><th>a</th><td>1</td></tr><tr><th>b</th><td>.</td></tr><tr><th>c</th><td>.</td></tr><tr><th>d</th><td>4</td></tr><tr><th>e</th><td>.</td></tr></table></td><td style=\"border: 3px solid black; text-align: left;\"><table border=\"1\"><thead><tr><th></th><th>A</th></tr></thead><tr><th>A</th><td>17</td></tr><tr><th>B</th><td>.</td></tr><tr><th>C</th><td>.</td></tr><tr><th>D</th><td>.</td></tr></table></td></tr></tbody></table>"
      ]
     },
     "execution_count": 12,
     "metadata": {},
     "output_type": "execute_result"
    }
   ],
   "source": [
    "#% html\n",
    "< \n",
    "    $rmat\n",
    "    $rmat[0].transpose\n",
    "    $rmat.dot($rmat[0].transpose)\n",
    ">\n",
    "==> { .map({ $_ => $_.&EVAL.to-html }) }() \n",
    "==> to-html-table"
   ]
  },
  {
   "cell_type": "code",
   "execution_count": 13,
   "metadata": {},
   "outputs": [
    {
     "data": {
      "text/html": [
       "<table style=\"border-collapse: collapse; border: 3px solid black;\"><thead><tr><th style=\"border: 3px solid black; text-align: left;\">$rmat</th><th style=\"border: 3px solid black; text-align: left;\">$rmat.core-matrix[0].transpose</th><th style=\"border: 3px solid black; text-align: left;\">$rmat.dot($rmat.core-matrix[0].transpose)</th></tr></thead><tbody><tr><td style=\"border: 3px solid black; text-align: left;\"><table border=\"1\"><thead><tr><th></th><th>a</th><th>b</th><th>c</th><th>d</th><th>e</th></tr></thead><tr><th>A</th><td>1</td><td>.</td><td>.</td><td>4</td><td>.</td></tr><tr><th>B</th><td>.</td><td>2</td><td>.</td><td>.</td><td>.</td></tr><tr><th>C</th><td>.</td><td>.</td><td>.</td><td>.</td><td>2</td></tr><tr><th>D</th><td>.</td><td>.</td><td>3</td><td>.</td><td>.</td></tr></table></td><td style=\"border: 3px solid black; text-align: left;\"><table border=\"1\"><tr><td>1</td></tr><tr><td>.</td></tr><tr><td>.</td></tr><tr><td>4</td></tr><tr><td>.</td></tr></table></td><td style=\"border: 3px solid black; text-align: left;\"><table border=\"1\"><thead><tr><th></th><th>0</th></tr></thead><tr><th>A</th><td>17</td></tr><tr><th>B</th><td>.</td></tr><tr><th>C</th><td>.</td></tr><tr><th>D</th><td>.</td></tr></table></td></tr></tbody></table>"
      ]
     },
     "execution_count": 13,
     "metadata": {},
     "output_type": "execute_result"
    }
   ],
   "source": [
    "#% html\n",
    "< \n",
    "    $rmat\n",
    "    $rmat.core-matrix[0].transpose\n",
    "    $rmat.dot($rmat.core-matrix[0].transpose)\n",
    ">\n",
    "==> { .map({ $_ => $_.&EVAL.to-html }) }() \n",
    "==> to-html-table"
   ]
  },
  {
   "cell_type": "markdown",
   "metadata": {},
   "source": [
    "### Matrix by matrix"
   ]
  },
  {
   "cell_type": "markdown",
   "metadata": {},
   "source": [
    "First we look into:\n",
    "- Dot product to the _right_ of `Math::SparseMatrix` with a `Math::SparseMatrix::CSR` \n",
    "- Dot product to the _left_ of `Math::SparseMatrix` with a `Math::SparseMatrix::CSR`"
   ]
  },
  {
   "cell_type": "code",
   "execution_count": 14,
   "metadata": {},
   "outputs": [
    {
     "data": {
      "text/html": [
       "<table style=\"border-collapse: collapse; border: 3px solid black;\"><thead><tr><th style=\"border: 3px solid black; text-align: left;\">$rmat</th><th style=\"border: 3px solid black; text-align: left;\">$rmat.core-matrix.transpose</th><th style=\"border: 3px solid black; text-align: left;\">$rmat.dot($rmat.core-matrix.transpose)</th><th style=\"border: 3px solid black; text-align: left;\">$rmat.transpose.dot($rmat.core-matrix)</th></tr></thead><tbody><tr><td style=\"border: 3px solid black; text-align: left;\"><table border=\"1\"><thead><tr><th></th><th>a</th><th>b</th><th>c</th><th>d</th><th>e</th></tr></thead><tr><th>A</th><td>1</td><td>.</td><td>.</td><td>4</td><td>.</td></tr><tr><th>B</th><td>.</td><td>2</td><td>.</td><td>.</td><td>.</td></tr><tr><th>C</th><td>.</td><td>.</td><td>.</td><td>.</td><td>2</td></tr><tr><th>D</th><td>.</td><td>.</td><td>3</td><td>.</td><td>.</td></tr></table></td><td style=\"border: 3px solid black; text-align: left;\"><table border=\"1\"><tr><td>1</td><td>.</td><td>.</td><td>.</td></tr><tr><td>.</td><td>2</td><td>.</td><td>.</td></tr><tr><td>.</td><td>.</td><td>.</td><td>3</td></tr><tr><td>4</td><td>.</td><td>.</td><td>.</td></tr><tr><td>.</td><td>.</td><td>2</td><td>.</td></tr></table></td><td style=\"border: 3px solid black; text-align: left;\"><table border=\"1\"><thead><tr><th></th><th>0</th><th>1</th><th>2</th><th>3</th></tr></thead><tr><th>A</th><td>17</td><td>.</td><td>.</td><td>.</td></tr><tr><th>B</th><td>.</td><td>4</td><td>.</td><td>.</td></tr><tr><th>C</th><td>.</td><td>.</td><td>4</td><td>.</td></tr><tr><th>D</th><td>.</td><td>.</td><td>.</td><td>9</td></tr></table></td><td style=\"border: 3px solid black; text-align: left;\"><table border=\"1\"><thead><tr><th></th><th>0</th><th>1</th><th>2</th><th>3</th><th>4</th></tr></thead><tr><th>a</th><td>1</td><td>.</td><td>.</td><td>4</td><td>.</td></tr><tr><th>b</th><td>.</td><td>4</td><td>.</td><td>.</td><td>.</td></tr><tr><th>c</th><td>.</td><td>.</td><td>9</td><td>.</td><td>.</td></tr><tr><th>d</th><td>4</td><td>.</td><td>.</td><td>16</td><td>.</td></tr><tr><th>e</th><td>.</td><td>.</td><td>.</td><td>.</td><td>4</td></tr></table></td></tr></tbody></table>"
      ]
     },
     "execution_count": 14,
     "metadata": {},
     "output_type": "execute_result"
    }
   ],
   "source": [
    "#% html\n",
    "<\n",
    "    $rmat\n",
    "    $rmat.core-matrix.transpose\n",
    "    $rmat.dot($rmat.core-matrix.transpose)\n",
    "    $rmat.transpose.dot($rmat.core-matrix)\n",
    ">\n",
    "==> { .map({ $_ => $_.&EVAL.to-html }) }() \n",
    "==> to-html-table"
   ]
  },
  {
   "cell_type": "markdown",
   "metadata": {},
   "source": [
    "This creates another `Math::SparseMatrix::CSR` object with _anonymous_ row and column names:"
   ]
  },
  {
   "cell_type": "code",
   "execution_count": 15,
   "metadata": {},
   "outputs": [
    {
     "data": {
      "text/plain": [
       "Math::SparseMatrix(:specified-elements(18), :dimensions((5, 4)), :density(0.9))"
      ]
     },
     "execution_count": 15,
     "metadata": {},
     "output_type": "execute_result"
    }
   ],
   "source": [
    "#my $dmat2 = random-real([0,4], $rmat.rows-count)».round xx $rmat.columns-count;\n",
    "my $dmat2 = [2, 2, 4, 4, 4, 2, 3, 2, 0, 2, 1, 4, 4, 1, 1, 3, 1, 2, 1, 0].rotor(4);\n",
    "my $rmat2 = Math::SparseMatrix.new(dense-matrix => $dmat2);"
   ]
  },
  {
   "cell_type": "markdown",
   "metadata": {},
   "source": [
    "Next we look into two dot products of two `Math::SparseMatrix` objects:"
   ]
  },
  {
   "cell_type": "code",
   "execution_count": 16,
   "metadata": {},
   "outputs": [
    {
     "data": {
      "text/html": [
       "<table style=\"border-collapse: collapse; border: 3px solid black;\"><thead><tr><th style=\"border: 3px solid black; text-align: left;\">$rmat</th><th style=\"border: 3px solid black; text-align: left;\">$rmat2</th><th style=\"border: 3px solid black; text-align: left;\">$rmat.dot($rmat2)</th><th style=\"border: 3px solid black; text-align: left;\">$rmat2.dot($rmat)</th><th style=\"border: 3px solid black; text-align: left;\">$rmat.dot($rmat2).dot($rmat)</th></tr></thead><tbody><tr><td style=\"border: 3px solid black; text-align: left;\"><table border=\"1\"><thead><tr><th></th><th>a</th><th>b</th><th>c</th><th>d</th><th>e</th></tr></thead><tr><th>A</th><td>1</td><td>.</td><td>.</td><td>4</td><td>.</td></tr><tr><th>B</th><td>.</td><td>2</td><td>.</td><td>.</td><td>.</td></tr><tr><th>C</th><td>.</td><td>.</td><td>.</td><td>.</td><td>2</td></tr><tr><th>D</th><td>.</td><td>.</td><td>3</td><td>.</td><td>.</td></tr></table></td><td style=\"border: 3px solid black; text-align: left;\"><table border=\"1\"><thead><tr><th></th><th>0</th><th>1</th><th>2</th><th>3</th></tr></thead><tr><th>0</th><td>2</td><td>2</td><td>4</td><td>4</td></tr><tr><th>1</th><td>4</td><td>2</td><td>3</td><td>2</td></tr><tr><th>2</th><td>.</td><td>2</td><td>1</td><td>4</td></tr><tr><th>3</th><td>4</td><td>1</td><td>1</td><td>3</td></tr><tr><th>4</th><td>1</td><td>2</td><td>1</td><td>.</td></tr></table></td><td style=\"border: 3px solid black; text-align: left;\"><table border=\"1\"><thead><tr><th></th><th>0</th><th>1</th><th>2</th><th>3</th></tr></thead><tr><th>A</th><td>18</td><td>6</td><td>8</td><td>16</td></tr><tr><th>B</th><td>8</td><td>4</td><td>6</td><td>4</td></tr><tr><th>C</th><td>2</td><td>4</td><td>2</td><td>.</td></tr><tr><th>D</th><td>.</td><td>6</td><td>3</td><td>12</td></tr></table></td><td style=\"border: 3px solid black; text-align: left;\"><table border=\"1\"><thead><tr><th></th><th>a</th><th>b</th><th>c</th><th>d</th><th>e</th></tr></thead><tr><th>0</th><td>2</td><td>4</td><td>12</td><td>8</td><td>8</td></tr><tr><th>1</th><td>4</td><td>4</td><td>6</td><td>16</td><td>6</td></tr><tr><th>2</th><td>.</td><td>4</td><td>12</td><td>.</td><td>2</td></tr><tr><th>3</th><td>4</td><td>2</td><td>9</td><td>16</td><td>2</td></tr><tr><th>4</th><td>1</td><td>4</td><td>.</td><td>4</td><td>2</td></tr></table></td><td style=\"border: 3px solid black; text-align: left;\"><table border=\"1\"><thead><tr><th></th><th>a</th><th>b</th><th>c</th><th>d</th><th>e</th></tr></thead><tr><th>A</th><td>18</td><td>12</td><td>48</td><td>72</td><td>16</td></tr><tr><th>B</th><td>8</td><td>8</td><td>12</td><td>32</td><td>12</td></tr><tr><th>C</th><td>2</td><td>8</td><td>.</td><td>8</td><td>4</td></tr><tr><th>D</th><td>.</td><td>12</td><td>36</td><td>.</td><td>6</td></tr></table></td></tr></tbody></table>"
      ]
     },
     "execution_count": 16,
     "metadata": {},
     "output_type": "execute_result"
    }
   ],
   "source": [
    "#% html\n",
    "<\n",
    "    $rmat\n",
    "    $rmat2\n",
    "    $rmat.dot($rmat2)\n",
    "    $rmat2.dot($rmat)\n",
    "    $rmat.dot($rmat2).dot($rmat)\n",
    ">\n",
    "==> { .map({ $_ => $_.&EVAL.to-html }) }() \n",
    "==> to-html-table"
   ]
  },
  {
   "cell_type": "markdown",
   "metadata": {},
   "source": [
    "### Arithmetic operations"
   ]
  },
  {
   "cell_type": "markdown",
   "metadata": {},
   "source": [
    "The first three tables in this sub-section should be self-explanatory."
   ]
  },
  {
   "cell_type": "code",
   "execution_count": 17,
   "metadata": {},
   "outputs": [
    {
     "data": {
      "text/html": [
       "<table style=\"border-collapse: collapse; border: 3px solid black;\"><thead><tr><th style=\"border: 3px solid black; text-align: left;\">$rmat</th><th style=\"border: 3px solid black; text-align: left;\">$rmat.add(-2)</th><th style=\"border: 3px solid black; text-align: left;\">$rmat.multiply(10)</th><th style=\"border: 3px solid black; text-align: left;\">$rmat.multiply(10).add($rmat.multiply(2.33))</th></tr></thead><tbody><tr><td style=\"border: 3px solid black; text-align: left;\"><table border=\"1\"><thead><tr><th></th><th>a</th><th>b</th><th>c</th><th>d</th><th>e</th></tr></thead><tr><th>A</th><td>1</td><td>.</td><td>.</td><td>4</td><td>.</td></tr><tr><th>B</th><td>.</td><td>2</td><td>.</td><td>.</td><td>.</td></tr><tr><th>C</th><td>.</td><td>.</td><td>.</td><td>.</td><td>2</td></tr><tr><th>D</th><td>.</td><td>.</td><td>3</td><td>.</td><td>.</td></tr></table></td><td style=\"border: 3px solid black; text-align: left;\"><table border=\"1\"><thead><tr><th></th><th>a</th><th>b</th><th>c</th><th>d</th><th>e</th></tr></thead><tr><th>A</th><td>-1</td><td>.</td><td>.</td><td>2</td><td>.</td></tr><tr><th>B</th><td>.</td><td>0</td><td>.</td><td>.</td><td>.</td></tr><tr><th>C</th><td>.</td><td>.</td><td>.</td><td>.</td><td>0</td></tr><tr><th>D</th><td>.</td><td>.</td><td>1</td><td>.</td><td>.</td></tr></table></td><td style=\"border: 3px solid black; text-align: left;\"><table border=\"1\"><thead><tr><th></th><th>a</th><th>b</th><th>c</th><th>d</th><th>e</th></tr></thead><tr><th>A</th><td>10</td><td>.</td><td>.</td><td>40</td><td>.</td></tr><tr><th>B</th><td>.</td><td>20</td><td>.</td><td>.</td><td>.</td></tr><tr><th>C</th><td>.</td><td>.</td><td>.</td><td>.</td><td>20</td></tr><tr><th>D</th><td>.</td><td>.</td><td>30</td><td>.</td><td>.</td></tr></table></td><td style=\"border: 3px solid black; text-align: left;\"><table border=\"1\"><thead><tr><th></th><th>a</th><th>b</th><th>c</th><th>d</th><th>e</th></tr></thead><tr><th>A</th><td>12.33</td><td>.</td><td>.</td><td>49.32</td><td>.</td></tr><tr><th>B</th><td>.</td><td>24.66</td><td>.</td><td>.</td><td>.</td></tr><tr><th>C</th><td>.</td><td>.</td><td>.</td><td>.</td><td>24.66</td></tr><tr><th>D</th><td>.</td><td>.</td><td>36.99</td><td>.</td><td>.</td></tr></table></td></tr></tbody></table>"
      ]
     },
     "execution_count": 17,
     "metadata": {},
     "output_type": "execute_result"
    }
   ],
   "source": [
    "#% html\n",
    "<\n",
    "    $rmat\n",
    "    $rmat.add(-2)\n",
    "    $rmat.multiply(10)\n",
    "    $rmat.multiply(10).add($rmat.multiply(2.33))\n",
    ">\n",
    "==> { .map({ $_ => $_.&EVAL.to-html }) }() \n",
    "==> to-html-table"
   ]
  },
  {
   "cell_type": "code",
   "execution_count": 18,
   "metadata": {},
   "outputs": [
    {
     "data": {
      "text/html": [
       "<table style=\"border-collapse: collapse; border: 3px solid black;\"><thead><tr><th style=\"border: 3px solid black; text-align: left;\">$rmat</th><th style=\"border: 3px solid black; text-align: left;\">$rmat3.transpose</th><th style=\"border: 3px solid black; text-align: left;\">$rmat.add($rmat3.transpose)</th><th style=\"border: 3px solid black; text-align: left;\">$rmat.multiply($rmat3.transpose)</th></tr></thead><tbody><tr><td style=\"border: 3px solid black; text-align: left;\"><table border=\"1\"><thead><tr><th></th><th>a</th><th>b</th><th>c</th><th>d</th><th>e</th></tr></thead><tr><th>A</th><td>1</td><td>.</td><td>.</td><td>4</td><td>.</td></tr><tr><th>B</th><td>.</td><td>2</td><td>.</td><td>.</td><td>.</td></tr><tr><th>C</th><td>.</td><td>.</td><td>.</td><td>.</td><td>2</td></tr><tr><th>D</th><td>.</td><td>.</td><td>3</td><td>.</td><td>.</td></tr></table></td><td style=\"border: 3px solid black; text-align: left;\"><table border=\"1\"><thead><tr><th></th><th>a</th><th>b</th><th>c</th><th>d</th><th>e</th></tr></thead><tr><th>A</th><td>2</td><td>4</td><td>.</td><td>4</td><td>1</td></tr><tr><th>B</th><td>2</td><td>2</td><td>2</td><td>1</td><td>2</td></tr><tr><th>C</th><td>4</td><td>3</td><td>1</td><td>1</td><td>1</td></tr><tr><th>D</th><td>4</td><td>2</td><td>4</td><td>3</td><td>.</td></tr></table></td><td style=\"border: 3px solid black; text-align: left;\"><table border=\"1\"><thead><tr><th></th><th>a</th><th>b</th><th>c</th><th>d</th><th>e</th></tr></thead><tr><th>A</th><td>3</td><td>4</td><td>.</td><td>8</td><td>1</td></tr><tr><th>B</th><td>2</td><td>4</td><td>2</td><td>1</td><td>2</td></tr><tr><th>C</th><td>4</td><td>3</td><td>1</td><td>1</td><td>3</td></tr><tr><th>D</th><td>4</td><td>2</td><td>7</td><td>3</td><td>.</td></tr></table></td><td style=\"border: 3px solid black; text-align: left;\"><table border=\"1\"><thead><tr><th></th><th>a</th><th>b</th><th>c</th><th>d</th><th>e</th></tr></thead><tr><th>A</th><td>2</td><td>.</td><td>.</td><td>16</td><td>.</td></tr><tr><th>B</th><td>.</td><td>4</td><td>.</td><td>.</td><td>.</td></tr><tr><th>C</th><td>.</td><td>.</td><td>.</td><td>.</td><td>2</td></tr><tr><th>D</th><td>.</td><td>.</td><td>12</td><td>.</td><td>.</td></tr></table></td></tr></tbody></table>"
      ]
     },
     "execution_count": 18,
     "metadata": {},
     "output_type": "execute_result"
    }
   ],
   "source": [
    "#% html\n",
    "my $rmat3 = Math::SparseMatrix.new($rmat2, row-names => $rmat.column-names, column-names => $rmat.row-names);\n",
    "\n",
    "<\n",
    "    $rmat\n",
    "    $rmat3.transpose\n",
    "    $rmat.add($rmat3.transpose)\n",
    "    $rmat.multiply($rmat3.transpose)\n",
    ">\n",
    "==> { .map({ $_ => $_.&EVAL.to-html }) }() \n",
    "==> to-html-table"
   ]
  },
  {
   "cell_type": "markdown",
   "metadata": {},
   "source": [
    "When an arithmetic operation can be performed on the underlying sparse arrays but the row names or column names do not coincide the names are dropped."
   ]
  },
  {
   "cell_type": "code",
   "execution_count": 19,
   "metadata": {},
   "outputs": [
    {
     "data": {
      "text/html": [
       "<table style=\"border-collapse: collapse; border: 3px solid black;\"><thead><tr><th style=\"border: 3px solid black; text-align: left;\">$rmat</th><th style=\"border: 3px solid black; text-align: left;\">$rmat4.transpose</th><th style=\"border: 3px solid black; text-align: left;\">$rmat.add($rmat4.transpose)</th><th style=\"border: 3px solid black; text-align: left;\">$rmat.multiply($rmat4.transpose)</th></tr></thead><tbody><tr><td style=\"border: 3px solid black; text-align: left;\"><table border=\"1\"><thead><tr><th></th><th>a</th><th>b</th><th>c</th><th>d</th><th>e</th></tr></thead><tr><th>A</th><td>1</td><td>.</td><td>.</td><td>4</td><td>.</td></tr><tr><th>B</th><td>.</td><td>2</td><td>.</td><td>.</td><td>.</td></tr><tr><th>C</th><td>.</td><td>.</td><td>.</td><td>.</td><td>2</td></tr><tr><th>D</th><td>.</td><td>.</td><td>3</td><td>.</td><td>.</td></tr></table></td><td style=\"border: 3px solid black; text-align: left;\"><table border=\"1\"><thead><tr><th></th><th>a</th><th>b</th><th>c</th><th>d</th><th>e</th></tr></thead><tr><th>s.A</th><td>2</td><td>4</td><td>.</td><td>4</td><td>1</td></tr><tr><th>s.B</th><td>2</td><td>2</td><td>2</td><td>1</td><td>2</td></tr><tr><th>s.C</th><td>4</td><td>3</td><td>1</td><td>1</td><td>1</td></tr><tr><th>s.D</th><td>4</td><td>2</td><td>4</td><td>3</td><td>.</td></tr></table></td><td style=\"border: 3px solid black; text-align: left;\"><table border=\"1\"><thead><tr><th></th><th>0</th><th>1</th><th>2</th><th>3</th><th>4</th></tr></thead><tr><th>0</th><td>3</td><td>4</td><td>.</td><td>8</td><td>1</td></tr><tr><th>1</th><td>2</td><td>4</td><td>2</td><td>1</td><td>2</td></tr><tr><th>2</th><td>4</td><td>3</td><td>1</td><td>1</td><td>3</td></tr><tr><th>3</th><td>4</td><td>2</td><td>7</td><td>3</td><td>.</td></tr></table></td><td style=\"border: 3px solid black; text-align: left;\"><table border=\"1\"><thead><tr><th></th><th>0</th><th>1</th><th>2</th><th>3</th><th>4</th></tr></thead><tr><th>0</th><td>2</td><td>.</td><td>.</td><td>16</td><td>.</td></tr><tr><th>1</th><td>.</td><td>4</td><td>.</td><td>.</td><td>.</td></tr><tr><th>2</th><td>.</td><td>.</td><td>.</td><td>.</td><td>2</td></tr><tr><th>3</th><td>.</td><td>.</td><td>12</td><td>.</td><td>.</td></tr></table></td></tr></tbody></table>"
      ]
     },
     "execution_count": 19,
     "metadata": {},
     "output_type": "execute_result"
    }
   ],
   "source": [
    "#% html\n",
    "my $rmat4 = Math::SparseMatrix.new($rmat2, row-names => $rmat.column-names, column-names => $rmat.row-names.map('s.' ~ *));\n",
    "\n",
    "<\n",
    "    $rmat\n",
    "    $rmat4.transpose\n",
    "    $rmat.add($rmat4.transpose)\n",
    "    $rmat.multiply($rmat4.transpose)\n",
    ">\n",
    "==> { .map({ $_ => $_.&EVAL.to-html }) }() \n",
    "==> to-html-table"
   ]
  },
  {
   "cell_type": "markdown",
   "metadata": {},
   "source": [
    "-----\n",
    "\n",
    "## Row- and column binding"
   ]
  },
  {
   "cell_type": "markdown",
   "metadata": {},
   "source": [
    "Row- and column binding are useful in various data analysis scenarios. \n",
    "\n",
    "When using row and column names there are couple of questions to be answered.\n",
    "\n",
    "1. How duplication of row (column) names is handled?\n",
    "\n",
    "2. How can we specify to ignore the row (column) names when the doing the binding?"
   ]
  },
  {
   "cell_type": "markdown",
   "metadata": {},
   "source": [
    "Consider the following matrices:"
   ]
  },
  {
   "cell_type": "code",
   "execution_count": 20,
   "metadata": {},
   "outputs": [
    {
     "data": {
      "text/html": [
       "<table style=\"border-collapse: collapse; border: 3px solid black;\"><thead><tr><th style=\"border: 3px solid black; text-align: left;\">$rmat</th><th style=\"border: 3px solid black; text-align: left;\">$rmat2</th><th style=\"border: 3px solid black; text-align: left;\">$rmat3</th></tr></thead><tbody><tr><td style=\"border: 3px solid black; text-align: left;\"><table border=\"1\"><thead><tr><th></th><th>a</th><th>b</th><th>c</th><th>d</th><th>e</th></tr></thead><tr><th>A</th><td>1</td><td>.</td><td>.</td><td>4</td><td>.</td></tr><tr><th>B</th><td>.</td><td>2</td><td>.</td><td>.</td><td>.</td></tr><tr><th>C</th><td>.</td><td>.</td><td>.</td><td>.</td><td>2</td></tr><tr><th>D</th><td>.</td><td>.</td><td>3</td><td>.</td><td>.</td></tr></table></td><td style=\"border: 3px solid black; text-align: left;\"><table border=\"1\"><thead><tr><th></th><th>a</th><th>b</th><th>c</th><th>d</th><th>e</th></tr></thead><tr><th>s.A</th><td>1</td><td>.</td><td>.</td><td>4</td><td>.</td></tr><tr><th>s.B</th><td>.</td><td>2</td><td>.</td><td>.</td><td>.</td></tr><tr><th>s.C</th><td>.</td><td>.</td><td>.</td><td>.</td><td>2</td></tr><tr><th>s.D</th><td>.</td><td>.</td><td>3</td><td>.</td><td>.</td></tr></table></td><td style=\"border: 3px solid black; text-align: left;\"><table border=\"1\"><thead><tr><th></th><th>t.a</th><th>t.b</th><th>t.c</th><th>t.d</th><th>t.e</th></tr></thead><tr><th>A</th><td>1</td><td>.</td><td>.</td><td>4</td><td>.</td></tr><tr><th>B</th><td>.</td><td>2</td><td>.</td><td>.</td><td>.</td></tr><tr><th>C</th><td>.</td><td>.</td><td>.</td><td>.</td><td>2</td></tr><tr><th>D</th><td>.</td><td>.</td><td>3</td><td>.</td><td>.</td></tr></table></td></tr></tbody></table>"
      ]
     },
     "execution_count": 20,
     "metadata": {},
     "output_type": "execute_result"
    }
   ],
   "source": [
    "#% html\n",
    "\n",
    "my $rmat2 = Math::SparseMatrix.new($rmat, row-names => $rmat.row-names.map('s.' ~ *));\n",
    "my $rmat3 = Math::SparseMatrix.new($rmat, column-names => $rmat.column-names.map('t.' ~ *));\n",
    "\n",
    "<$rmat $rmat2 $rmat3>\n",
    "==> { .map({ $_ => $_.&EVAL.to-html }) }() \n",
    "==> to-html-table\n"
   ]
  },
  {
   "cell_type": "markdown",
   "metadata": {},
   "source": [
    "Here are row-binding of examples:"
   ]
  },
  {
   "cell_type": "code",
   "execution_count": 21,
   "metadata": {},
   "outputs": [
    {
     "data": {
      "text/html": [
       "<table style=\"border-collapse: collapse; border: 3px solid black;\"><thead><tr><th style=\"border: 3px solid black; text-align: left;\">$rmat.row-bind($rmat)</th><th style=\"border: 3px solid black; text-align: left;\">$rmat.row-bind($rmat2)</th></tr></thead><tbody><tr><td style=\"border: 3px solid black; text-align: left;\"><table border=\"1\"><thead><tr><th></th><th>a</th><th>b</th><th>c</th><th>d</th><th>e</th></tr></thead><tr><th>A.1</th><td>1</td><td>.</td><td>.</td><td>4</td><td>.</td></tr><tr><th>B.1</th><td>.</td><td>2</td><td>.</td><td>.</td><td>.</td></tr><tr><th>C.1</th><td>.</td><td>.</td><td>.</td><td>.</td><td>2</td></tr><tr><th>D.1</th><td>.</td><td>.</td><td>3</td><td>.</td><td>.</td></tr><tr><th>A.2</th><td>1</td><td>.</td><td>.</td><td>4</td><td>.</td></tr><tr><th>B.2</th><td>.</td><td>2</td><td>.</td><td>.</td><td>.</td></tr><tr><th>C.2</th><td>.</td><td>.</td><td>.</td><td>.</td><td>2</td></tr><tr><th>D.2</th><td>.</td><td>.</td><td>3</td><td>.</td><td>.</td></tr></table></td><td style=\"border: 3px solid black; text-align: left;\"><table border=\"1\"><thead><tr><th></th><th>a</th><th>b</th><th>c</th><th>d</th><th>e</th></tr></thead><tr><th>A</th><td>1</td><td>.</td><td>.</td><td>4</td><td>.</td></tr><tr><th>B</th><td>.</td><td>2</td><td>.</td><td>.</td><td>.</td></tr><tr><th>C</th><td>.</td><td>.</td><td>.</td><td>.</td><td>2</td></tr><tr><th>D</th><td>.</td><td>.</td><td>3</td><td>.</td><td>.</td></tr><tr><th>s.A</th><td>1</td><td>.</td><td>.</td><td>4</td><td>.</td></tr><tr><th>s.B</th><td>.</td><td>2</td><td>.</td><td>.</td><td>.</td></tr><tr><th>s.C</th><td>.</td><td>.</td><td>.</td><td>.</td><td>2</td></tr><tr><th>s.D</th><td>.</td><td>.</td><td>3</td><td>.</td><td>.</td></tr></table></td></tr></tbody></table>"
      ]
     },
     "execution_count": 21,
     "metadata": {},
     "output_type": "execute_result"
    }
   ],
   "source": [
    "#% html\n",
    "\n",
    "<$rmat.row-bind($rmat) $rmat.row-bind($rmat2)>\n",
    "==> { .map({ $_ => $_.&EVAL.to-html }) }() \n",
    "==> to-html-table"
   ]
  },
  {
   "cell_type": "code",
   "execution_count": 22,
   "metadata": {},
   "outputs": [
    {
     "data": {
      "text/html": [
       "<table style=\"border-collapse: collapse; border: 3px solid black;\"><thead><tr><th style=\"border: 3px solid black; text-align: left;\">$rmat.column-bind($rmat)</th><th style=\"border: 3px solid black; text-align: left;\">$rmat.column-bind($rmat3)</th></tr></thead><tbody><tr><td style=\"border: 3px solid black; text-align: left;\"><table border=\"1\"><thead><tr><th></th><th>a.1</th><th>b.1</th><th>c.1</th><th>d.1</th><th>e.1</th><th>a.2</th><th>b.2</th><th>c.2</th><th>d.2</th><th>e.2</th></tr></thead><tr><th>A</th><td>1</td><td>.</td><td>.</td><td>4</td><td>.</td><td>1</td><td>.</td><td>.</td><td>4</td><td>.</td></tr><tr><th>B</th><td>.</td><td>2</td><td>.</td><td>.</td><td>.</td><td>.</td><td>2</td><td>.</td><td>.</td><td>.</td></tr><tr><th>C</th><td>.</td><td>.</td><td>.</td><td>.</td><td>2</td><td>.</td><td>.</td><td>.</td><td>.</td><td>2</td></tr><tr><th>D</th><td>.</td><td>.</td><td>3</td><td>.</td><td>.</td><td>.</td><td>.</td><td>3</td><td>.</td><td>.</td></tr></table></td><td style=\"border: 3px solid black; text-align: left;\"><table border=\"1\"><thead><tr><th></th><th>a</th><th>b</th><th>c</th><th>d</th><th>e</th><th>t.a</th><th>t.b</th><th>t.c</th><th>t.d</th><th>t.e</th></tr></thead><tr><th>A</th><td>1</td><td>.</td><td>.</td><td>4</td><td>.</td><td>1</td><td>.</td><td>.</td><td>4</td><td>.</td></tr><tr><th>B</th><td>.</td><td>2</td><td>.</td><td>.</td><td>.</td><td>.</td><td>2</td><td>.</td><td>.</td><td>.</td></tr><tr><th>C</th><td>.</td><td>.</td><td>.</td><td>.</td><td>2</td><td>.</td><td>.</td><td>.</td><td>.</td><td>2</td></tr><tr><th>D</th><td>.</td><td>.</td><td>3</td><td>.</td><td>.</td><td>.</td><td>.</td><td>3</td><td>.</td><td>.</td></tr></table></td></tr></tbody></table>"
      ]
     },
     "execution_count": 22,
     "metadata": {},
     "output_type": "execute_result"
    }
   ],
   "source": [
    "#% html\n",
    "\n",
    "<$rmat.column-bind($rmat) $rmat.column-bind($rmat3)>\n",
    "==> { .map({ $_ => $_.&EVAL.to-html }) }() \n",
    "==> to-html-table"
   ]
  },
  {
   "cell_type": "markdown",
   "metadata": {},
   "source": [
    "----\n",
    "\n",
    "## Conversion to long form"
   ]
  },
  {
   "cell_type": "markdown",
   "metadata": {},
   "source": [
    "The `Math::SparseMatrix` objects can be converted to \"long form\" using the method `tuples`:"
   ]
  },
  {
   "cell_type": "code",
   "execution_count": 23,
   "metadata": {},
   "outputs": [
    {
     "name": "stdout",
     "output_type": "stream",
     "text": [
      "Indexes : [(0 0 1) (0 3 4) (1 1 2) (2 4 2) (3 2 3)]\n",
      "Names   : [(A a 1) (A d 4) (B b 2) (C e 2) (D c 3)]\n"
     ]
    }
   ],
   "source": [
    "say \"Indexes : \", $rmat.tuples;\n",
    "say \"Names   : \", $rmat.tuples(:names);"
   ]
  },
  {
   "cell_type": "markdown",
   "metadata": {},
   "source": [
    "Here is the \"dataset\" version:"
   ]
  },
  {
   "cell_type": "code",
   "execution_count": 24,
   "metadata": {},
   "outputs": [
    {
     "data": {
      "text/html": [
       "<table style=\"border-collapse: collapse; border: 3px solid black;\"><thead><tr><th style=\"border: 3px solid black; text-align: left;\">$rmat.tuples(:dataset)</th><th style=\"border: 3px solid black; text-align: left;\">$rmat.tuples(:names,:dataset)</th></tr></thead><tbody><tr><td style=\"border: 3px solid black; text-align: left;\"><table border=\"1\"><thead><tr><th>i</th><th>j</th><th>x</th></tr></thead><tbody><tr><td>0</td><td>0</td><td>1</td></tr><tr><td>0</td><td>3</td><td>4</td></tr><tr><td>1</td><td>1</td><td>2</td></tr><tr><td>2</td><td>4</td><td>2</td></tr><tr><td>3</td><td>2</td><td>3</td></tr></tbody></table></td><td style=\"border: 3px solid black; text-align: left;\"><table border=\"1\"><thead><tr><th>i</th><th>j</th><th>x</th></tr></thead><tbody><tr><td>A</td><td>a</td><td>1</td></tr><tr><td>A</td><td>d</td><td>4</td></tr><tr><td>B</td><td>b</td><td>2</td></tr><tr><td>C</td><td>e</td><td>2</td></tr><tr><td>D</td><td>c</td><td>3</td></tr></tbody></table></td></tr></tbody></table>"
      ]
     },
     "execution_count": 24,
     "metadata": {},
     "output_type": "execute_result"
    }
   ],
   "source": [
    "#% html\n",
    "<\n",
    "    $rmat.tuples(:dataset)\n",
    "    $rmat.tuples(:names,:dataset)    \n",
    ">\n",
    "==> { .map({ $_ => $_.&EVAL.&to-html(field-names => <i j x>) }) }() \n",
    "==> to-html-table"
   ]
  },
  {
   "cell_type": "markdown",
   "metadata": {},
   "source": [
    "**Remark:** By default both `:names` and `:dataset` are set to `False`."
   ]
  },
  {
   "cell_type": "markdown",
   "metadata": {},
   "source": [
    "Similar to the method `tuples` is the method `rules`:"
   ]
  },
  {
   "cell_type": "code",
   "execution_count": 25,
   "metadata": {},
   "outputs": [
    {
     "name": "stdout",
     "output_type": "stream",
     "text": [
      "Indexes : [(0 0) => 1 (0 3) => 4 (1 1) => 2 (2 4) => 2 (3 2) => 3]\n",
      "Names   : [(A a) => 1 (A d) => 4 (B b) => 2 (C e) => 2 (D c) => 3]\n"
     ]
    }
   ],
   "source": [
    "say \"Indexes : \", $rmat.rules;\n",
    "say \"Names   : \", $rmat.rules(:names);"
   ]
  },
  {
   "cell_type": "markdown",
   "metadata": {},
   "source": [
    "**Remark:** Again, by default `:names` is set to `False`."
   ]
  }
 ],
 "metadata": {
  "kernelspec": {
   "display_name": "RakuChatbook",
   "language": "raku",
   "name": "raku"
  },
  "language_info": {
   "file_extension": ".raku",
   "mimetype": "text/x-raku",
   "name": "raku",
   "version": "6.d"
  }
 },
 "nbformat": 4,
 "nbformat_minor": 2
}
